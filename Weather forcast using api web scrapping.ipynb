{
 "cells": [
  {
   "cell_type": "code",
   "execution_count": null,
   "id": "49fd8ef1",
   "metadata": {},
   "outputs": [],
   "source": []
  },
  {
   "cell_type": "code",
   "execution_count": 14,
   "id": "69af08a0",
   "metadata": {},
   "outputs": [
    {
     "name": "stdout",
     "output_type": "stream",
     "text": [
      "Enter the city name: delhi\n",
      "                       Current Date and Time >  03 Sep 2022 | 03:04:20 PM\n",
      "-------------------------------------------------------------\n",
      "Weather Stats for - DELHI  || 03 Sep 2022 | 03:04:20 PM\n",
      "-------------------------------------------------------------\n",
      "Coordination is       :Longitude 77.22 and Latitude 28.67 \n",
      "Current temperature is: 36.05 deg C\n",
      "Current weather desc  : scattered clouds\n",
      "Current Weather is    : Clouds \n",
      "        Time Zone is  :   19800\n",
      "Current Humidity      : 38 %\n",
      "Current wind speed    : 4.12 kmph\n"
     ]
    }
   ],
   "source": [
    "import requests\n",
    "import os\n",
    "from datetime import datetime\n",
    "\n",
    "user_api = 'b348fd1b4f13ed02bf02efe9afe42a0c'\n",
    "location = input(\"Enter the city name: \")\n",
    "\n",
    "complete_api_link = \"https://api.openweathermap.org/data/2.5/weather?q=\"+location+\"&appid=\"+user_api\n",
    "api_link = requests.get(complete_api_link)\n",
    "api_data = api_link.json()\n",
    "\n",
    "#create variables to store and display data\n",
    "temp_city = ((api_data['main']['temp']) - 273.15)\n",
    "weather_desc = api_data['weather'][0]['description']\n",
    "hmdt = api_data['main']['humidity']\n",
    "wind_spd = api_data['wind']['speed']\n",
    "coord_lon = api_data['coord']['lon']\n",
    "coord_lat = api_data['coord']['lat']\n",
    "date_time = datetime.now().strftime(\"%d %b %Y | %I:%M:%S %p\")\n",
    "weather1 = api_data['weather'][0]['main']\n",
    "timezone = api_data['timezone']\n",
    "\n",
    "print (\"                       Current Date and Time > \",date_time)\n",
    "print (\"-------------------------------------------------------------\")\n",
    "print (\"Weather Stats for - {}  || {}\".format(location.upper(), date_time))\n",
    "print (\"-------------------------------------------------------------\")\n",
    "print (\"Coordination is       :Longitude {:.2f} and Latitude {:.2f} \".format(coord_lon,coord_lat))\n",
    "print (\"Current temperature is: {:.2f} deg C\".format(temp_city))\n",
    "print (\"Current weather desc  :\",weather_desc)\n",
    "print (\"Current Weather is    : {} \".format(weather1))\n",
    "print (\"        Time Zone is  :  \",timezone)\n",
    "print (\"Current Humidity      :\",hmdt, '%')\n",
    "print (\"Current wind speed    :\",wind_spd ,'kmph')"
   ]
  },
  {
   "cell_type": "code",
   "execution_count": 16,
   "id": "d8cf7eef",
   "metadata": {},
   "outputs": [
    {
     "ename": "TypeError",
     "evalue": "'function' object is not subscriptable",
     "output_type": "error",
     "traceback": [
      "\u001b[1;31m---------------------------------------------------------------------------\u001b[0m",
      "\u001b[1;31mTypeError\u001b[0m                                 Traceback (most recent call last)",
      "Input \u001b[1;32mIn [16]\u001b[0m, in \u001b[0;36m<cell line: 2>\u001b[1;34m()\u001b[0m\n\u001b[0;32m      1\u001b[0m \u001b[38;5;28;01mimport\u001b[39;00m \u001b[38;5;21;01mpandas\u001b[39;00m \u001b[38;5;28;01mas\u001b[39;00m \u001b[38;5;21;01mpd\u001b[39;00m\n\u001b[1;32m----> 2\u001b[0m breast_cancer \u001b[38;5;241m=\u001b[39m \u001b[43mpd\u001b[49m\u001b[38;5;241;43m.\u001b[39;49m\u001b[43mread_csv\u001b[49m\u001b[43m[\u001b[49m\u001b[38;5;124;43m'\u001b[39;49m\u001b[38;5;124;43mbreast_cancer_raw.csv\u001b[39;49m\u001b[38;5;124;43m'\u001b[39;49m\u001b[43m]\u001b[49m\n",
      "\u001b[1;31mTypeError\u001b[0m: 'function' object is not subscriptable"
     ]
    }
   ],
   "source": [
    "\n"
   ]
  },
  {
   "cell_type": "code",
   "execution_count": null,
   "id": "44bafd1a",
   "metadata": {},
   "outputs": [],
   "source": []
  }
 ],
 "metadata": {
  "kernelspec": {
   "display_name": "Python 3 (ipykernel)",
   "language": "python",
   "name": "python3"
  },
  "language_info": {
   "codemirror_mode": {
    "name": "ipython",
    "version": 3
   },
   "file_extension": ".py",
   "mimetype": "text/x-python",
   "name": "python",
   "nbconvert_exporter": "python",
   "pygments_lexer": "ipython3",
   "version": "3.10.6"
  }
 },
 "nbformat": 4,
 "nbformat_minor": 5
}
